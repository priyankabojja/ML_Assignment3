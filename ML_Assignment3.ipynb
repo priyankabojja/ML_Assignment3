{
 "cells": [
  {
   "cell_type": "code",
   "execution_count": 12,
   "id": "a7a2b421",
   "metadata": {},
   "outputs": [
    {
     "name": "stdout",
     "output_type": "stream",
     "text": [
      "Array shape: (3, 5)\n",
      "Updated array:\n",
      " [[ 6  2 16  0 14]\n",
      " [14  4  9  0  1]\n",
      " [ 2  9 13 15  0]]\n",
      "Array shape: (4, 3)\n",
      "Array type: <class 'numpy.ndarray'>\n",
      "Array data type: int32\n"
     ]
    }
   ],
   "source": [
    "import numpy as np\n",
    "\n",
    "# Create a random vector of size 15 with integers in the range 1-20\n",
    "arr = np.random.randint(low=1, high=21, size=15)\n",
    "\n",
    "# Reshape the array to 3 by 5\n",
    "arr = arr.reshape(3, 5)\n",
    "\n",
    "# Print array shape\n",
    "print(\"Array shape:\", arr.shape)\n",
    "\n",
    "# Replace the max in each row by 0\n",
    "arr[np.arange(len(arr)), np.argmax(arr, axis=1)] = 0\n",
    "\n",
    "# Print the updated array\n",
    "print(\"Updated array:\\n\", arr)\n",
    "\n",
    "# Create a 2-dimensional array of size 4 x 3 with 4-byte integer elements\n",
    "arr_2d = np.zeros((4, 3), dtype=np.int32)\n",
    "\n",
    "# Print the shape, type, and data type of the array\n",
    "print(\"Array shape:\", arr_2d.shape)\n",
    "print(\"Array type:\", type(arr_2d))\n",
    "print(\"Array data type:\", arr_2d.dtype)\n"
   ]
  },
  {
   "cell_type": "code",
   "execution_count": 13,
   "id": "c909ad02",
   "metadata": {},
   "outputs": [
    {
     "name": "stdout",
     "output_type": "stream",
     "text": [
      "Eigenvalues: [2. 1.]\n",
      "Right eigenvectors:\n",
      " [[0.89442719 0.70710678]\n",
      " [0.4472136  0.70710678]]\n"
     ]
    }
   ],
   "source": [
    "import numpy as np\n",
    "\n",
    "# Define the input array\n",
    "A = np.array([[3, -2], [1, 0]])\n",
    "\n",
    "# Compute the eigenvalues and right eigenvectors\n",
    "eigenvalues, eigenvectors = np.linalg.eig(A)\n",
    "\n",
    "# Print the eigenvalues and eigenvectors\n",
    "print(\"Eigenvalues:\", eigenvalues)\n",
    "print(\"Right eigenvectors:\\n\", eigenvectors)\n"
   ]
  },
  {
   "cell_type": "code",
   "execution_count": 14,
   "id": "39345f3f",
   "metadata": {},
   "outputs": [
    {
     "name": "stdout",
     "output_type": "stream",
     "text": [
      "Sum of diagonal elements: 4\n"
     ]
    }
   ],
   "source": [
    "import numpy as np\n",
    "\n",
    "# Define the input array\n",
    "A = np.array([[0, 1, 2], [3, 4, 5]])\n",
    "\n",
    "# Compute the sum of the diagonal elements\n",
    "diag_sum = np.trace(A)\n",
    "\n",
    "# Print the sum of the diagonal elements\n",
    "print(\"Sum of diagonal elements:\", diag_sum)\n"
   ]
  },
  {
   "cell_type": "code",
   "execution_count": 15,
   "id": "686f2719",
   "metadata": {},
   "outputs": [
    {
     "name": "stdout",
     "output_type": "stream",
     "text": [
      "Original array:\n",
      " [[1 2]\n",
      " [3 4]\n",
      " [5 6]]\n",
      "Reshaped array:\n",
      " [[1 2 3]\n",
      " [4 5 6]]\n"
     ]
    }
   ],
   "source": [
    "import numpy as np\n",
    "\n",
    "# Define the input array\n",
    "A = np.array([[1, 2], [3, 4], [5, 6]])\n",
    "\n",
    "# Reshape the array to 2x3 without changing its data\n",
    "B = A.reshape((2, 3))\n",
    "\n",
    "# Print the original and reshaped arrays\n",
    "print(\"Original array:\\n\", A)\n",
    "print(\"Reshaped array:\\n\", B)\n"
   ]
  },
  {
   "cell_type": "code",
   "execution_count": 16,
   "id": "0032378f",
   "metadata": {},
   "outputs": [
    {
     "name": "stdout",
     "output_type": "stream",
     "text": [
      "Original array:\n",
      " [[1 2 3]\n",
      " [4 5 6]]\n",
      "Reshaped array:\n",
      " [[1 2]\n",
      " [3 4]\n",
      " [5 6]]\n"
     ]
    }
   ],
   "source": [
    "import numpy as np\n",
    "\n",
    "# Define the input array\n",
    "A = np.array([[1, 2, 3], [4, 5, 6]])\n",
    "\n",
    "# Reshape the array to 3x2 without changing its data\n",
    "B = A.reshape((3, 2))\n",
    "\n",
    "# Print the original and reshaped arrays\n",
    "print(\"Original array:\\n\", A)\n",
    "print(\"Reshaped array:\\n\", B)\n"
   ]
  },
  {
   "cell_type": "code",
   "execution_count": 9,
   "id": "0de7676b",
   "metadata": {},
   "outputs": [
    {
     "data": {
      "image/png": "[encoded data removed]",
      "text/plain": [
       "<Figure size 640x480 with 1 Axes>"
      ]
     },
     "metadata": {},
     "output_type": "display_data"
    }
   ],
   "source": [
    "import matplotlib.pyplot as plt\n",
    "\n",
    "# define the programming languages and their popularity\n",
    "languages = ['Java', 'Python', 'PHP', 'JavaScript', 'C#', 'C++']\n",
    "popularity = [22.2, 17.6, 8.8, 8, 7.7, 6.7]\n",
    "\n",
    "# create a bar chart\n",
    "plt.bar(languages, popularity)\n",
    "\n",
    "# add a title and labels to the chart\n",
    "plt.title('Popularity of Programming Languages')\n",
    "plt.xlabel('Programming Languages')\n",
    "plt.ylabel('Popularity (%)')\n",
    "\n",
    "# show the chart\n",
    "plt.show()\n"
   ]
  },
  {
   "cell_type": "code",
   "execution_count": null,
   "id": "9be6150a",
   "metadata": {},
   "outputs": [],
   "source": []
  }
 ],
 "metadata": {
  "kernelspec": {
   "display_name": "Python 3 (ipykernel)",
   "language": "python",
   "name": "python3"
  },
  "language_info": {
   "codemirror_mode": {
    "name": "ipython",
    "version": 3
   },
   "file_extension": ".py",
   "mimetype": "text/x-python",
   "name": "python",
   "nbconvert_exporter": "python",
   "pygments_lexer": "ipython3",
   "version": "3.8.6"
  }
 },
 "nbformat": 4,
 "nbformat_minor": 5
}
